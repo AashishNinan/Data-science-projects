{
 "cells": [
  {
   "cell_type": "code",
   "execution_count": 7,
   "id": "bd9a0097",
   "metadata": {},
   "outputs": [
    {
     "name": "stdout",
     "output_type": "stream",
     "text": [
      "{'album_group': 'album', 'album_type': 'album', 'artists': [{'external_urls': {'spotify': 'https://open.spotify.com/artist/2WX2uTcsvV5OnS0inACecP'}, 'href': 'https://api.spotify.com/v1/artists/2WX2uTcsvV5OnS0inACecP', 'id': '2WX2uTcsvV5OnS0inACecP', 'name': 'Birdy', 'type': 'artist', 'uri': 'spotify:artist:2WX2uTcsvV5OnS0inACecP'}], 'available_markets': ['AD', 'AE', 'AG', 'AL', 'AM', 'AO', 'AR', 'AT', 'AU', 'AZ', 'BA', 'BB', 'BD', 'BE', 'BF', 'BG', 'BH', 'BI', 'BJ', 'BN', 'BO', 'BR', 'BS', 'BT', 'BW', 'BY', 'BZ', 'CA', 'CD', 'CG', 'CH', 'CI', 'CL', 'CM', 'CO', 'CR', 'CV', 'CW', 'CY', 'CZ', 'DE', 'DJ', 'DK', 'DM', 'DO', 'DZ', 'EC', 'EE', 'EG', 'ES', 'ET', 'FI', 'FJ', 'FM', 'FR', 'GA', 'GB', 'GD', 'GE', 'GH', 'GM', 'GN', 'GQ', 'GR', 'GT', 'GW', 'GY', 'HK', 'HN', 'HR', 'HT', 'HU', 'ID', 'IE', 'IL', 'IN', 'IQ', 'IS', 'IT', 'JM', 'JO', 'JP', 'KE', 'KG', 'KH', 'KI', 'KM', 'KN', 'KR', 'KW', 'KZ', 'LA', 'LB', 'LC', 'LI', 'LK', 'LR', 'LS', 'LT', 'LU', 'LV', 'LY', 'MA', 'MC', 'MD', 'ME', 'MG', 'MH', 'MK', 'ML', 'MN', 'MO', 'MR', 'MT', 'MU', 'MV', 'MW', 'MX', 'MY', 'MZ', 'NA', 'NE', 'NG', 'NI', 'NL', 'NO', 'NP', 'NR', 'NZ', 'OM', 'PA', 'PE', 'PG', 'PH', 'PK', 'PL', 'PS', 'PT', 'PW', 'PY', 'QA', 'RO', 'RS', 'RW', 'SA', 'SB', 'SC', 'SE', 'SG', 'SI', 'SK', 'SL', 'SM', 'SN', 'SR', 'ST', 'SV', 'SZ', 'TD', 'TG', 'TH', 'TJ', 'TL', 'TN', 'TO', 'TR', 'TT', 'TV', 'TW', 'TZ', 'UA', 'UG', 'US', 'UY', 'UZ', 'VC', 'VE', 'VN', 'VU', 'WS', 'XK', 'ZA', 'ZM', 'ZW'], 'external_urls': {'spotify': 'https://open.spotify.com/album/4qsLVZk1UnizpQJBkbFNdx'}, 'href': 'https://api.spotify.com/v1/albums/4qsLVZk1UnizpQJBkbFNdx', 'id': '4qsLVZk1UnizpQJBkbFNdx', 'images': [{'height': 640, 'url': 'https://i.scdn.co/image/ab67616d0000b27361d0c623346c1fb4cb00a79a', 'width': 640}, {'height': 300, 'url': 'https://i.scdn.co/image/ab67616d00001e0261d0c623346c1fb4cb00a79a', 'width': 300}, {'height': 64, 'url': 'https://i.scdn.co/image/ab67616d0000485161d0c623346c1fb4cb00a79a', 'width': 64}], 'name': 'Young Heart', 'release_date': '2021-04-30', 'release_date_precision': 'day', 'total_tracks': 16, 'type': 'album', 'uri': 'spotify:album:4qsLVZk1UnizpQJBkbFNdx'}\n"
     ]
    }
   ],
   "source": [
    "import spotipy\n",
    "from spotipy.oauth2 import SpotifyClientCredentials\n",
    "\n",
    "birdy_uri = 'spotify:artist:2WX2uTcsvV5OnS0inACecP'\n",
    "spotify = spotipy.Spotify(client_credentials_manager=SpotifyClientCredentials(client_id = \"9be2b20914c7465baedc53512aadb996\",\n",
    "                            client_secret=\"df32f5a5f101485ca33a76058280a188\"))\n",
    "\n",
    "results = spotify.artist_albums(birdy_uri, album_type='album')\n",
    "albums = results['items']\n",
    "\n",
    "while results['next']:\n",
    "    results = spotify.next(results)\n",
    "    albums.extend(results['items'])\n",
    "\n",
    "print(albums[0])"
   ]
  },
  {
   "cell_type": "code",
   "execution_count": 92,
   "id": "a6a8d7d8",
   "metadata": {},
   "outputs": [
    {
     "name": "stdout",
     "output_type": "stream",
     "text": [
      "['album rock', 'classic rock', 'hard rock', 'rock']\n"
     ]
    }
   ],
   "source": [
    "import spotipy\n",
    "from spotipy.oauth2 import SpotifyClientCredentials\n",
    "\n",
    "lz_uri = 'spotify:artist:36QJpDe2go2KgaRleHCDTp'\n",
    "\n",
    "spotify = spotipy.Spotify(client_credentials_manager=SpotifyClientCredentials(client_id = \"9be2b20914c7465baedc53512aadb996\",\n",
    "                            client_secret=\"df32f5a5f101485ca33a76058280a188\"))\n",
    "results = spotify.artist(lz_uri)\n",
    "\n",
    "#for track in results['tracks'][:1]:\n",
    "#    print(track)\n",
    "\n",
    "print(results['genres'])"
   ]
  },
  {
   "cell_type": "code",
   "execution_count": 93,
   "id": "5eee1881",
   "metadata": {},
   "outputs": [
    {
     "name": "stdout",
     "output_type": "stream",
     "text": [
      "{'external_urls': {'spotify': 'https://open.spotify.com/artist/36QJpDe2go2KgaRleHCDTp'}, 'followers': {'href': None, 'total': 12991557}, 'genres': ['album rock', 'classic rock', 'hard rock', 'rock'], 'href': 'https://api.spotify.com/v1/artists/36QJpDe2go2KgaRleHCDTp', 'id': '36QJpDe2go2KgaRleHCDTp', 'images': [{'height': 600, 'url': 'https://i.scdn.co/image/207803ce008388d3427a685254f9de6a8f61dc2e', 'width': 600}, {'height': 200, 'url': 'https://i.scdn.co/image/b0248a44865493e6a03832aa89854ada16ff07a8', 'width': 200}, {'height': 64, 'url': 'https://i.scdn.co/image/16eb3cdae0d824b520ac17710e943a99d3ef6602', 'width': 64}], 'name': 'Led Zeppelin', 'popularity': 78, 'type': 'artist', 'uri': 'spotify:artist:36QJpDe2go2KgaRleHCDTp'}\n"
     ]
    }
   ],
   "source": [
    "print(results)"
   ]
  },
  {
   "cell_type": "code",
   "execution_count": 95,
   "id": "9a70847f",
   "metadata": {},
   "outputs": [
    {
     "name": "stdout",
     "output_type": "stream",
     "text": [
      "12991557\n"
     ]
    }
   ],
   "source": [
    "print(results['followers']['total'])"
   ]
  },
  {
   "cell_type": "code",
   "execution_count": 96,
   "id": "f1bd0447",
   "metadata": {},
   "outputs": [
    {
     "name": "stdout",
     "output_type": "stream",
     "text": [
      "78\n"
     ]
    }
   ],
   "source": [
    "print(results['popularity'])"
   ]
  },
  {
   "cell_type": "code",
   "execution_count": 13,
   "id": "42a291bd",
   "metadata": {},
   "outputs": [],
   "source": [
    "import pandas as pd\n",
    "import numpy as np\n",
    "import re"
   ]
  },
  {
   "cell_type": "code",
   "execution_count": 14,
   "id": "458220d2",
   "metadata": {},
   "outputs": [],
   "source": [
    "pd1 = pd.read_csv(r'spotify_millsongdata.csv')"
   ]
  },
  {
   "cell_type": "code",
   "execution_count": 16,
   "id": "a54ae283",
   "metadata": {},
   "outputs": [
    {
     "name": "stdout",
     "output_type": "stream",
     "text": [
      "  artist                   song                                        link  \\\n",
      "0   ABBA  Ahe's My Kind Of Girl  /a/abba/ahes+my+kind+of+girl_20598417.html   \n",
      "\n",
      "                                                text  \n",
      "0  Look at her face, it's a wonderful face  \\r\\nA...  \n"
     ]
    }
   ],
   "source": [
    "print(pd1[:1])"
   ]
  },
  {
   "cell_type": "code",
   "execution_count": 17,
   "id": "85b16bb8",
   "metadata": {},
   "outputs": [
    {
     "name": "stdout",
     "output_type": "stream",
     "text": [
      "{'artists': {'href': 'https://api.spotify.com/v1/search?query=Abba&type=artist&offset=0&limit=10', 'items': [{'external_urls': {'spotify': 'https://open.spotify.com/artist/0LcJLqbBmaGUft1e9Mm8HV'}, 'followers': {'href': None, 'total': 9532997}, 'genres': ['europop', 'swedish pop'], 'href': 'https://api.spotify.com/v1/artists/0LcJLqbBmaGUft1e9Mm8HV', 'id': '0LcJLqbBmaGUft1e9Mm8HV', 'images': [{'height': 640, 'url': 'https://i.scdn.co/image/ab6761610000e5eb6c6380e782ed89db8754cf2a', 'width': 640}, {'height': 320, 'url': 'https://i.scdn.co/image/ab676161000051746c6380e782ed89db8754cf2a', 'width': 320}, {'height': 160, 'url': 'https://i.scdn.co/image/ab6761610000f1786c6380e782ed89db8754cf2a', 'width': 160}], 'name': 'ABBA', 'popularity': 82, 'type': 'artist', 'uri': 'spotify:artist:0LcJLqbBmaGUft1e9Mm8HV'}, {'external_urls': {'spotify': 'https://open.spotify.com/artist/6HclTVD03WSY6GUpN16BkP'}, 'followers': {'href': None, 'total': 47929}, 'genres': ['classical performance', 'orchestral performance'], 'href': 'https://api.spotify.com/v1/artists/6HclTVD03WSY6GUpN16BkP', 'id': '6HclTVD03WSY6GUpN16BkP', 'images': [{'height': 229, 'url': 'https://i.scdn.co/image/bc4cad090275374d9276721974ab23eb61e5fe66', 'width': 200}, {'height': 73, 'url': 'https://i.scdn.co/image/a99b546419e380c3545c555a8a1de10a0ab3e52f', 'width': 64}], 'name': 'Claudio Abbado', 'popularity': 64, 'type': 'artist', 'uri': 'spotify:artist:6HclTVD03WSY6GUpN16BkP'}, {'external_urls': {'spotify': 'https://open.spotify.com/artist/1epGwdbjU7JSGVBHlqptpx'}, 'followers': {'href': None, 'total': 100893}, 'genres': [\"black 'n' roll\", 'black metal', 'metal', 'norwegian black metal'], 'href': 'https://api.spotify.com/v1/artists/1epGwdbjU7JSGVBHlqptpx', 'id': '1epGwdbjU7JSGVBHlqptpx', 'images': [{'height': 640, 'url': 'https://i.scdn.co/image/ab6761610000e5eb2591389b0d0589241fd8e635', 'width': 640}, {'height': 320, 'url': 'https://i.scdn.co/image/ab676161000051742591389b0d0589241fd8e635', 'width': 320}, {'height': 160, 'url': 'https://i.scdn.co/image/ab6761610000f1782591389b0d0589241fd8e635', 'width': 160}], 'name': 'Abbath', 'popularity': 33, 'type': 'artist', 'uri': 'spotify:artist:1epGwdbjU7JSGVBHlqptpx'}, {'external_urls': {'spotify': 'https://open.spotify.com/artist/5zMgvYBz4AW0gFyPtg7fR9'}, 'followers': {'href': None, 'total': 179927}, 'genres': ['bubblegum dance', 'dance pop', 'europop', 'post-teen pop'], 'href': 'https://api.spotify.com/v1/artists/5zMgvYBz4AW0gFyPtg7fR9', 'id': '5zMgvYBz4AW0gFyPtg7fR9', 'images': [{'height': 819, 'url': 'https://i.scdn.co/image/02d0b6cc0b28a6c18c3575649170800b985dfc15', 'width': 1000}, {'height': 524, 'url': 'https://i.scdn.co/image/c6cb198d9a3565d372dde4686e3ab3ca037f48dd', 'width': 639}, {'height': 164, 'url': 'https://i.scdn.co/image/34472ac519fb8a0e6be2b30009574b7648b5d124', 'width': 200}, {'height': 52, 'url': 'https://i.scdn.co/image/2a29b09cab732f9a1ff016a39a850c3c76f3368f', 'width': 63}], 'name': 'A*Teens', 'popularity': 48, 'type': 'artist', 'uri': 'spotify:artist:5zMgvYBz4AW0gFyPtg7fR9'}, {'external_urls': {'spotify': 'https://open.spotify.com/artist/4EEQIAJoeN1V30MqFFtXxB'}, 'followers': {'href': None, 'total': 43610}, 'genres': ['american classical piano', 'classical performance', 'classical piano'], 'href': 'https://api.spotify.com/v1/artists/4EEQIAJoeN1V30MqFFtXxB', 'id': '4EEQIAJoeN1V30MqFFtXxB', 'images': [{'height': 925, 'url': 'https://i.scdn.co/image/36a16b86186e883f0f2d6e068b88df6773456d73', 'width': 1000}, {'height': 592, 'url': 'https://i.scdn.co/image/5114f321589fa49791ae73a555486d2f66c912b8', 'width': 640}, {'height': 185, 'url': 'https://i.scdn.co/image/53419abb49b35383ed9158030c3ac07b33b5f7e4', 'width': 200}, {'height': 59, 'url': 'https://i.scdn.co/image/1aabba90689e23c365bd325296b17d8a91d72972', 'width': 64}], 'name': 'Murray Perahia', 'popularity': 53, 'type': 'artist', 'uri': 'spotify:artist:4EEQIAJoeN1V30MqFFtXxB'}, {'external_urls': {'spotify': 'https://open.spotify.com/artist/1LZEQNv7sE11VDY3SdxQeN'}, 'followers': {'href': None, 'total': 6461963}, 'genres': ['disco', 'mellow gold', 'soft rock'], 'href': 'https://api.spotify.com/v1/artists/1LZEQNv7sE11VDY3SdxQeN', 'id': '1LZEQNv7sE11VDY3SdxQeN', 'images': [{'height': 733, 'url': 'https://i.scdn.co/image/1d5a05673975ba0c378cd280344e000b0b865620', 'width': 1000}, {'height': 469, 'url': 'https://i.scdn.co/image/1ea4795e17ffa658d7ad23095d58997a278179a9', 'width': 640}, {'height': 147, 'url': 'https://i.scdn.co/image/1f363042bdd59e0f80cb7b9cac1b312f9389b019', 'width': 200}, {'height': 47, 'url': 'https://i.scdn.co/image/c707552215757c7f2dc6071e32d487a3c7b28d3f', 'width': 64}], 'name': 'Bee Gees', 'popularity': 78, 'type': 'artist', 'uri': 'spotify:artist:1LZEQNv7sE11VDY3SdxQeN'}, {'external_urls': {'spotify': 'https://open.spotify.com/artist/1CDtTrMhug34Bq6GQHIfhe'}, 'followers': {'href': None, 'total': 126}, 'genres': ['show tunes'], 'href': 'https://api.spotify.com/v1/artists/1CDtTrMhug34Bq6GQHIfhe', 'id': '1CDtTrMhug34Bq6GQHIfhe', 'images': [], 'name': 'Stig Anderson', 'popularity': 38, 'type': 'artist', 'uri': 'spotify:artist:1CDtTrMhug34Bq6GQHIfhe'}, {'external_urls': {'spotify': 'https://open.spotify.com/artist/4qcu61lU2AeiKisfmzj6r6'}, 'followers': {'href': None, 'total': 98}, 'genres': [], 'href': 'https://api.spotify.com/v1/artists/4qcu61lU2AeiKisfmzj6r6', 'id': '4qcu61lU2AeiKisfmzj6r6', 'images': [], 'name': 'Abbaye Saint-Wandrille', 'popularity': 13, 'type': 'artist', 'uri': 'spotify:artist:4qcu61lU2AeiKisfmzj6r6'}, {'external_urls': {'spotify': 'https://open.spotify.com/artist/3OSYVINCz3vaPYV4DhvSS7'}, 'followers': {'href': None, 'total': 2846}, 'genres': [], 'href': 'https://api.spotify.com/v1/artists/3OSYVINCz3vaPYV4DhvSS7', 'id': '3OSYVINCz3vaPYV4DhvSS7', 'images': [{'height': 640, 'url': 'https://i.scdn.co/image/ab6761610000e5eb51eb0fbb78fe1a68cb8f4317', 'width': 640}, {'height': 320, 'url': 'https://i.scdn.co/image/ab6761610000517451eb0fbb78fe1a68cb8f4317', 'width': 320}, {'height': 160, 'url': 'https://i.scdn.co/image/ab6761610000f17851eb0fbb78fe1a68cb8f4317', 'width': 160}], 'name': 'Misha Mullov-Abbado', 'popularity': 43, 'type': 'artist', 'uri': 'spotify:artist:3OSYVINCz3vaPYV4DhvSS7'}, {'external_urls': {'spotify': 'https://open.spotify.com/artist/1MEyvZ7sYrc2FfKIN962r6'}, 'followers': {'href': None, 'total': 167}, 'genres': [], 'href': 'https://api.spotify.com/v1/artists/1MEyvZ7sYrc2FfKIN962r6', 'id': '1MEyvZ7sYrc2FfKIN962r6', 'images': [], 'name': 'Donna M.', 'popularity': 19, 'type': 'artist', 'uri': 'spotify:artist:1MEyvZ7sYrc2FfKIN962r6'}], 'limit': 10, 'next': 'https://api.spotify.com/v1/search?query=Abba&type=artist&offset=10&limit=10', 'offset': 0, 'previous': None, 'total': 2354}}\n"
     ]
    }
   ],
   "source": [
    "results = spotify.search(\"Abba\", limit=10, offset=0, type='artist', market=None)\n",
    "\n",
    "print(results['genre'])"
   ]
  },
  {
   "cell_type": "code",
   "execution_count": 44,
   "id": "260b7fec",
   "metadata": {},
   "outputs": [
    {
     "name": "stdout",
     "output_type": "stream",
     "text": [
      "{'artists': {'href': 'https://api.spotify.com/v1/search?query=Abba&type=artist&offset=0&limit=10', 'items': [{'external_urls': {'spotify': 'https://open.spotify.com/artist/0LcJLqbBmaGUft1e9Mm8HV'}, 'followers': {'href': None, 'total': 9532997}, 'genres': ['europop', 'swedish pop'], 'href': 'https://api.spotify.com/v1/artists/0LcJLqbBmaGUft1e9Mm8HV', 'id': '0LcJLqbBmaGUft1e9Mm8HV', 'images': [{'height': 640, 'url': 'https://i.scdn.co/image/ab6761610000e5eb6c6380e782ed89db8754cf2a', 'width': 640}, {'height': 320, 'url': 'https://i.scdn.co/image/ab676161000051746c6380e782ed89db8754cf2a', 'width': 320}, {'height': 160, 'url': 'https://i.scdn.co/image/ab6761610000f1786c6380e782ed89db8754cf2a', 'width': 160}], 'name': 'ABBA', 'popularity': 82, 'type': 'artist', 'uri': 'spotify:artist:0LcJLqbBmaGUft1e9Mm8HV'}, {'external_urls': {'spotify': 'https://open.spotify.com/artist/6HclTVD03WSY6GUpN16BkP'}, 'followers': {'href': None, 'total': 47929}, 'genres': ['classical performance', 'orchestral performance'], 'href': 'https://api.spotify.com/v1/artists/6HclTVD03WSY6GUpN16BkP', 'id': '6HclTVD03WSY6GUpN16BkP', 'images': [{'height': 229, 'url': 'https://i.scdn.co/image/bc4cad090275374d9276721974ab23eb61e5fe66', 'width': 200}, {'height': 73, 'url': 'https://i.scdn.co/image/a99b546419e380c3545c555a8a1de10a0ab3e52f', 'width': 64}], 'name': 'Claudio Abbado', 'popularity': 64, 'type': 'artist', 'uri': 'spotify:artist:6HclTVD03WSY6GUpN16BkP'}, {'external_urls': {'spotify': 'https://open.spotify.com/artist/1epGwdbjU7JSGVBHlqptpx'}, 'followers': {'href': None, 'total': 100893}, 'genres': [\"black 'n' roll\", 'black metal', 'metal', 'norwegian black metal'], 'href': 'https://api.spotify.com/v1/artists/1epGwdbjU7JSGVBHlqptpx', 'id': '1epGwdbjU7JSGVBHlqptpx', 'images': [{'height': 640, 'url': 'https://i.scdn.co/image/ab6761610000e5eb2591389b0d0589241fd8e635', 'width': 640}, {'height': 320, 'url': 'https://i.scdn.co/image/ab676161000051742591389b0d0589241fd8e635', 'width': 320}, {'height': 160, 'url': 'https://i.scdn.co/image/ab6761610000f1782591389b0d0589241fd8e635', 'width': 160}], 'name': 'Abbath', 'popularity': 33, 'type': 'artist', 'uri': 'spotify:artist:1epGwdbjU7JSGVBHlqptpx'}, {'external_urls': {'spotify': 'https://open.spotify.com/artist/5zMgvYBz4AW0gFyPtg7fR9'}, 'followers': {'href': None, 'total': 179927}, 'genres': ['bubblegum dance', 'dance pop', 'europop', 'post-teen pop'], 'href': 'https://api.spotify.com/v1/artists/5zMgvYBz4AW0gFyPtg7fR9', 'id': '5zMgvYBz4AW0gFyPtg7fR9', 'images': [{'height': 819, 'url': 'https://i.scdn.co/image/02d0b6cc0b28a6c18c3575649170800b985dfc15', 'width': 1000}, {'height': 524, 'url': 'https://i.scdn.co/image/c6cb198d9a3565d372dde4686e3ab3ca037f48dd', 'width': 639}, {'height': 164, 'url': 'https://i.scdn.co/image/34472ac519fb8a0e6be2b30009574b7648b5d124', 'width': 200}, {'height': 52, 'url': 'https://i.scdn.co/image/2a29b09cab732f9a1ff016a39a850c3c76f3368f', 'width': 63}], 'name': 'A*Teens', 'popularity': 48, 'type': 'artist', 'uri': 'spotify:artist:5zMgvYBz4AW0gFyPtg7fR9'}, {'external_urls': {'spotify': 'https://open.spotify.com/artist/4EEQIAJoeN1V30MqFFtXxB'}, 'followers': {'href': None, 'total': 43610}, 'genres': ['american classical piano', 'classical performance', 'classical piano'], 'href': 'https://api.spotify.com/v1/artists/4EEQIAJoeN1V30MqFFtXxB', 'id': '4EEQIAJoeN1V30MqFFtXxB', 'images': [{'height': 925, 'url': 'https://i.scdn.co/image/36a16b86186e883f0f2d6e068b88df6773456d73', 'width': 1000}, {'height': 592, 'url': 'https://i.scdn.co/image/5114f321589fa49791ae73a555486d2f66c912b8', 'width': 640}, {'height': 185, 'url': 'https://i.scdn.co/image/53419abb49b35383ed9158030c3ac07b33b5f7e4', 'width': 200}, {'height': 59, 'url': 'https://i.scdn.co/image/1aabba90689e23c365bd325296b17d8a91d72972', 'width': 64}], 'name': 'Murray Perahia', 'popularity': 53, 'type': 'artist', 'uri': 'spotify:artist:4EEQIAJoeN1V30MqFFtXxB'}, {'external_urls': {'spotify': 'https://open.spotify.com/artist/1LZEQNv7sE11VDY3SdxQeN'}, 'followers': {'href': None, 'total': 6461963}, 'genres': ['disco', 'mellow gold', 'soft rock'], 'href': 'https://api.spotify.com/v1/artists/1LZEQNv7sE11VDY3SdxQeN', 'id': '1LZEQNv7sE11VDY3SdxQeN', 'images': [{'height': 733, 'url': 'https://i.scdn.co/image/1d5a05673975ba0c378cd280344e000b0b865620', 'width': 1000}, {'height': 469, 'url': 'https://i.scdn.co/image/1ea4795e17ffa658d7ad23095d58997a278179a9', 'width': 640}, {'height': 147, 'url': 'https://i.scdn.co/image/1f363042bdd59e0f80cb7b9cac1b312f9389b019', 'width': 200}, {'height': 47, 'url': 'https://i.scdn.co/image/c707552215757c7f2dc6071e32d487a3c7b28d3f', 'width': 64}], 'name': 'Bee Gees', 'popularity': 78, 'type': 'artist', 'uri': 'spotify:artist:1LZEQNv7sE11VDY3SdxQeN'}, {'external_urls': {'spotify': 'https://open.spotify.com/artist/1CDtTrMhug34Bq6GQHIfhe'}, 'followers': {'href': None, 'total': 126}, 'genres': ['show tunes'], 'href': 'https://api.spotify.com/v1/artists/1CDtTrMhug34Bq6GQHIfhe', 'id': '1CDtTrMhug34Bq6GQHIfhe', 'images': [], 'name': 'Stig Anderson', 'popularity': 38, 'type': 'artist', 'uri': 'spotify:artist:1CDtTrMhug34Bq6GQHIfhe'}, {'external_urls': {'spotify': 'https://open.spotify.com/artist/4qcu61lU2AeiKisfmzj6r6'}, 'followers': {'href': None, 'total': 98}, 'genres': [], 'href': 'https://api.spotify.com/v1/artists/4qcu61lU2AeiKisfmzj6r6', 'id': '4qcu61lU2AeiKisfmzj6r6', 'images': [], 'name': 'Abbaye Saint-Wandrille', 'popularity': 13, 'type': 'artist', 'uri': 'spotify:artist:4qcu61lU2AeiKisfmzj6r6'}, {'external_urls': {'spotify': 'https://open.spotify.com/artist/3OSYVINCz3vaPYV4DhvSS7'}, 'followers': {'href': None, 'total': 2846}, 'genres': [], 'href': 'https://api.spotify.com/v1/artists/3OSYVINCz3vaPYV4DhvSS7', 'id': '3OSYVINCz3vaPYV4DhvSS7', 'images': [{'height': 640, 'url': 'https://i.scdn.co/image/ab6761610000e5eb51eb0fbb78fe1a68cb8f4317', 'width': 640}, {'height': 320, 'url': 'https://i.scdn.co/image/ab6761610000517451eb0fbb78fe1a68cb8f4317', 'width': 320}, {'height': 160, 'url': 'https://i.scdn.co/image/ab6761610000f17851eb0fbb78fe1a68cb8f4317', 'width': 160}], 'name': 'Misha Mullov-Abbado', 'popularity': 43, 'type': 'artist', 'uri': 'spotify:artist:3OSYVINCz3vaPYV4DhvSS7'}, {'external_urls': {'spotify': 'https://open.spotify.com/artist/1MEyvZ7sYrc2FfKIN962r6'}, 'followers': {'href': None, 'total': 167}, 'genres': [], 'href': 'https://api.spotify.com/v1/artists/1MEyvZ7sYrc2FfKIN962r6', 'id': '1MEyvZ7sYrc2FfKIN962r6', 'images': [], 'name': 'Donna M.', 'popularity': 19, 'type': 'artist', 'uri': 'spotify:artist:1MEyvZ7sYrc2FfKIN962r6'}], 'limit': 10, 'next': 'https://api.spotify.com/v1/search?query=Abba&type=artist&offset=10&limit=10', 'offset': 0, 'previous': None, 'total': 2354}}\n"
     ]
    }
   ],
   "source": [
    "print(results)"
   ]
  },
  {
   "cell_type": "code",
   "execution_count": 63,
   "id": "376cdfed",
   "metadata": {},
   "outputs": [
    {
     "name": "stdout",
     "output_type": "stream",
     "text": [
      "{'href': 'https://api.spotify.com/v1/search?query=Abba&type=artist&offset=0&limit=10', 'items': [{'external_urls': {'spotify': 'https://open.spotify.com/artist/0LcJLqbBmaGUft1e9Mm8HV'}, 'followers': {'href': None, 'total': 9532997}, 'genres': ['europop', 'swedish pop'], 'href': 'https://api.spotify.com/v1/artists/0LcJLqbBmaGUft1e9Mm8HV', 'id': '0LcJLqbBmaGUft1e9Mm8HV', 'images': [{'height': 640, 'url': 'https://i.scdn.co/image/ab6761610000e5eb6c6380e782ed89db8754cf2a', 'width': 640}, {'height': 320, 'url': 'https://i.scdn.co/image/ab676161000051746c6380e782ed89db8754cf2a', 'width': 320}, {'height': 160, 'url': 'https://i.scdn.co/image/ab6761610000f1786c6380e782ed89db8754cf2a', 'width': 160}], 'name': 'ABBA', 'popularity': 82, 'type': 'artist', 'uri': 'spotify:artist:0LcJLqbBmaGUft1e9Mm8HV'}, {'external_urls': {'spotify': 'https://open.spotify.com/artist/6HclTVD03WSY6GUpN16BkP'}, 'followers': {'href': None, 'total': 47929}, 'genres': ['classical performance', 'orchestral performance'], 'href': 'https://api.spotify.com/v1/artists/6HclTVD03WSY6GUpN16BkP', 'id': '6HclTVD03WSY6GUpN16BkP', 'images': [{'height': 229, 'url': 'https://i.scdn.co/image/bc4cad090275374d9276721974ab23eb61e5fe66', 'width': 200}, {'height': 73, 'url': 'https://i.scdn.co/image/a99b546419e380c3545c555a8a1de10a0ab3e52f', 'width': 64}], 'name': 'Claudio Abbado', 'popularity': 64, 'type': 'artist', 'uri': 'spotify:artist:6HclTVD03WSY6GUpN16BkP'}, {'external_urls': {'spotify': 'https://open.spotify.com/artist/1epGwdbjU7JSGVBHlqptpx'}, 'followers': {'href': None, 'total': 100893}, 'genres': [\"black 'n' roll\", 'black metal', 'metal', 'norwegian black metal'], 'href': 'https://api.spotify.com/v1/artists/1epGwdbjU7JSGVBHlqptpx', 'id': '1epGwdbjU7JSGVBHlqptpx', 'images': [{'height': 640, 'url': 'https://i.scdn.co/image/ab6761610000e5eb2591389b0d0589241fd8e635', 'width': 640}, {'height': 320, 'url': 'https://i.scdn.co/image/ab676161000051742591389b0d0589241fd8e635', 'width': 320}, {'height': 160, 'url': 'https://i.scdn.co/image/ab6761610000f1782591389b0d0589241fd8e635', 'width': 160}], 'name': 'Abbath', 'popularity': 33, 'type': 'artist', 'uri': 'spotify:artist:1epGwdbjU7JSGVBHlqptpx'}, {'external_urls': {'spotify': 'https://open.spotify.com/artist/5zMgvYBz4AW0gFyPtg7fR9'}, 'followers': {'href': None, 'total': 179927}, 'genres': ['bubblegum dance', 'dance pop', 'europop', 'post-teen pop'], 'href': 'https://api.spotify.com/v1/artists/5zMgvYBz4AW0gFyPtg7fR9', 'id': '5zMgvYBz4AW0gFyPtg7fR9', 'images': [{'height': 819, 'url': 'https://i.scdn.co/image/02d0b6cc0b28a6c18c3575649170800b985dfc15', 'width': 1000}, {'height': 524, 'url': 'https://i.scdn.co/image/c6cb198d9a3565d372dde4686e3ab3ca037f48dd', 'width': 639}, {'height': 164, 'url': 'https://i.scdn.co/image/34472ac519fb8a0e6be2b30009574b7648b5d124', 'width': 200}, {'height': 52, 'url': 'https://i.scdn.co/image/2a29b09cab732f9a1ff016a39a850c3c76f3368f', 'width': 63}], 'name': 'A*Teens', 'popularity': 48, 'type': 'artist', 'uri': 'spotify:artist:5zMgvYBz4AW0gFyPtg7fR9'}, {'external_urls': {'spotify': 'https://open.spotify.com/artist/4EEQIAJoeN1V30MqFFtXxB'}, 'followers': {'href': None, 'total': 43610}, 'genres': ['american classical piano', 'classical performance', 'classical piano'], 'href': 'https://api.spotify.com/v1/artists/4EEQIAJoeN1V30MqFFtXxB', 'id': '4EEQIAJoeN1V30MqFFtXxB', 'images': [{'height': 925, 'url': 'https://i.scdn.co/image/36a16b86186e883f0f2d6e068b88df6773456d73', 'width': 1000}, {'height': 592, 'url': 'https://i.scdn.co/image/5114f321589fa49791ae73a555486d2f66c912b8', 'width': 640}, {'height': 185, 'url': 'https://i.scdn.co/image/53419abb49b35383ed9158030c3ac07b33b5f7e4', 'width': 200}, {'height': 59, 'url': 'https://i.scdn.co/image/1aabba90689e23c365bd325296b17d8a91d72972', 'width': 64}], 'name': 'Murray Perahia', 'popularity': 53, 'type': 'artist', 'uri': 'spotify:artist:4EEQIAJoeN1V30MqFFtXxB'}, {'external_urls': {'spotify': 'https://open.spotify.com/artist/1LZEQNv7sE11VDY3SdxQeN'}, 'followers': {'href': None, 'total': 6461963}, 'genres': ['disco', 'mellow gold', 'soft rock'], 'href': 'https://api.spotify.com/v1/artists/1LZEQNv7sE11VDY3SdxQeN', 'id': '1LZEQNv7sE11VDY3SdxQeN', 'images': [{'height': 733, 'url': 'https://i.scdn.co/image/1d5a05673975ba0c378cd280344e000b0b865620', 'width': 1000}, {'height': 469, 'url': 'https://i.scdn.co/image/1ea4795e17ffa658d7ad23095d58997a278179a9', 'width': 640}, {'height': 147, 'url': 'https://i.scdn.co/image/1f363042bdd59e0f80cb7b9cac1b312f9389b019', 'width': 200}, {'height': 47, 'url': 'https://i.scdn.co/image/c707552215757c7f2dc6071e32d487a3c7b28d3f', 'width': 64}], 'name': 'Bee Gees', 'popularity': 78, 'type': 'artist', 'uri': 'spotify:artist:1LZEQNv7sE11VDY3SdxQeN'}, {'external_urls': {'spotify': 'https://open.spotify.com/artist/1CDtTrMhug34Bq6GQHIfhe'}, 'followers': {'href': None, 'total': 126}, 'genres': ['show tunes'], 'href': 'https://api.spotify.com/v1/artists/1CDtTrMhug34Bq6GQHIfhe', 'id': '1CDtTrMhug34Bq6GQHIfhe', 'images': [], 'name': 'Stig Anderson', 'popularity': 38, 'type': 'artist', 'uri': 'spotify:artist:1CDtTrMhug34Bq6GQHIfhe'}, {'external_urls': {'spotify': 'https://open.spotify.com/artist/4qcu61lU2AeiKisfmzj6r6'}, 'followers': {'href': None, 'total': 98}, 'genres': [], 'href': 'https://api.spotify.com/v1/artists/4qcu61lU2AeiKisfmzj6r6', 'id': '4qcu61lU2AeiKisfmzj6r6', 'images': [], 'name': 'Abbaye Saint-Wandrille', 'popularity': 13, 'type': 'artist', 'uri': 'spotify:artist:4qcu61lU2AeiKisfmzj6r6'}, {'external_urls': {'spotify': 'https://open.spotify.com/artist/3OSYVINCz3vaPYV4DhvSS7'}, 'followers': {'href': None, 'total': 2846}, 'genres': [], 'href': 'https://api.spotify.com/v1/artists/3OSYVINCz3vaPYV4DhvSS7', 'id': '3OSYVINCz3vaPYV4DhvSS7', 'images': [{'height': 640, 'url': 'https://i.scdn.co/image/ab6761610000e5eb51eb0fbb78fe1a68cb8f4317', 'width': 640}, {'height': 320, 'url': 'https://i.scdn.co/image/ab6761610000517451eb0fbb78fe1a68cb8f4317', 'width': 320}, {'height': 160, 'url': 'https://i.scdn.co/image/ab6761610000f17851eb0fbb78fe1a68cb8f4317', 'width': 160}], 'name': 'Misha Mullov-Abbado', 'popularity': 43, 'type': 'artist', 'uri': 'spotify:artist:3OSYVINCz3vaPYV4DhvSS7'}, {'external_urls': {'spotify': 'https://open.spotify.com/artist/1MEyvZ7sYrc2FfKIN962r6'}, 'followers': {'href': None, 'total': 167}, 'genres': [], 'href': 'https://api.spotify.com/v1/artists/1MEyvZ7sYrc2FfKIN962r6', 'id': '1MEyvZ7sYrc2FfKIN962r6', 'images': [], 'name': 'Donna M.', 'popularity': 19, 'type': 'artist', 'uri': 'spotify:artist:1MEyvZ7sYrc2FfKIN962r6'}], 'limit': 10, 'next': 'https://api.spotify.com/v1/search?query=Abba&type=artist&offset=10&limit=10', 'offset': 0, 'previous': None, 'total': 2354}\n"
     ]
    }
   ],
   "source": [
    "a = results['artists']\n",
    "print(a)"
   ]
  },
  {
   "cell_type": "code",
   "execution_count": 48,
   "id": "b2d9169c",
   "metadata": {},
   "outputs": [
    {
     "name": "stdout",
     "output_type": "stream",
     "text": [
      "https://api.spotify.com/v1/search?query=Abba&type=artist&offset=0&limit=10\n"
     ]
    }
   ],
   "source": [
    "print(a['href'])"
   ]
  },
  {
   "cell_type": "code",
   "execution_count": 64,
   "id": "ac78a8f1",
   "metadata": {},
   "outputs": [
    {
     "name": "stdout",
     "output_type": "stream",
     "text": [
      "spotify:artist:0LcJLqbBmaGUft1e9Mm8HV\n",
      "<class 'str'>\n"
     ]
    }
   ],
   "source": [
    "#print(a['items'])\n",
    "b = a['items'][0]\n",
    "print(b['uri'])\n",
    "c = b['uri']\n",
    "print(type(c))"
   ]
  },
  {
   "cell_type": "code",
   "execution_count": 59,
   "id": "09299d24",
   "metadata": {},
   "outputs": [
    {
     "data": {
      "text/plain": [
       "array(['ABBA', 'Ace Of Base', 'Adam Sandler', 'Adele', 'Aerosmith',\n",
       "       'Air Supply', 'Aiza Seguerra', 'Alabama', 'Alan Parsons Project',\n",
       "       'Aled Jones', 'Alice Cooper', 'Alice In Chains', 'Alison Krauss',\n",
       "       'Allman Brothers Band', 'Alphaville', 'America', 'Amy Grant',\n",
       "       'Andrea Bocelli', 'Andy Williams', 'Annie', 'Ariana Grande',\n",
       "       'Ariel Rivera', 'Arlo Guthrie', 'Arrogant Worms', 'Avril Lavigne',\n",
       "       'Backstreet Boys', 'Barbie', 'Barbra Streisand', 'Beach Boys',\n",
       "       'The Beatles', 'Beautiful South', 'Beauty And The Beast',\n",
       "       'Bee Gees', 'Bette Midler', 'Bill Withers', 'Billie Holiday',\n",
       "       'Billy Joel', 'Bing Crosby', 'Black Sabbath', 'Blur', 'Bob Dylan',\n",
       "       'Bob Marley', 'Bob Rivers', 'Bob Seger', 'Bon Jovi', 'Boney M.',\n",
       "       'Bonnie Raitt', 'Bosson', 'Bread', 'Britney Spears',\n",
       "       'Bruce Springsteen', 'Bruno Mars', 'Bryan White', 'Cake',\n",
       "       'Carly Simon', 'Carol Banawa', 'Carpenters', 'Cat Stevens',\n",
       "       'Celine Dion', 'Chaka Khan', 'Cheap Trick', 'Cher', 'Chicago',\n",
       "       'Children', 'Chris Brown', 'Chris Rea', 'Christina Aguilera',\n",
       "       'Christina Perri', 'Christmas Songs', 'Christy Moore',\n",
       "       'Chuck Berry', 'Cinderella', 'Clash', 'Cliff Richard', 'Coldplay',\n",
       "       'Cole Porter', 'Conway Twitty', 'Counting Crows',\n",
       "       'Creedence Clearwater Revival', 'Crowded House', 'Culture Club',\n",
       "       'Cyndi Lauper', 'Dan Fogelberg', 'Dave Matthews Band',\n",
       "       'David Allan Coe', 'David Bowie', 'David Guetta', 'David Pomeranz',\n",
       "       'Dean Martin', 'Death', 'Deep Purple', 'Def Leppard',\n",
       "       'Demi Lovato', 'Depeche Mode', 'Devo', 'Dewa 19', 'Diana Ross',\n",
       "       'Dire Straits', 'Divine', 'Dolly Parton', 'Don Henley',\n",
       "       'Don McLean', 'Don Moen', 'Donna Summer', 'Doobie Brothers',\n",
       "       'Doors', 'Doris Day', 'Drake', 'Dream Theater',\n",
       "       'Dusty Springfield', 'Eagles', 'Ed Sheeran', 'Eddie Cochran',\n",
       "       'Electric Light Orchestra', 'Ella Fitzgerald', 'Ellie Goulding',\n",
       "       'Elton John', 'Elvis Costello', 'Elvis Presley', 'Eminem',\n",
       "       'Emmylou Harris', 'Engelbert Humperdinck', 'Enigma',\n",
       "       'Enrique Iglesias', 'Enya', 'Eppu Normaali', 'Erasure',\n",
       "       'Eric Clapton', 'Erik Santos', 'Etta James', 'Europe',\n",
       "       'Eurythmics', 'Evanescence', 'Everclear', 'Everlast', 'Exo',\n",
       "       'Exo-K', 'Extreme', 'Fabolous', 'Face To Face', 'Faces',\n",
       "       'Faith Hill', 'Faith No More', 'Falco', 'Fall Out Boy', 'Fastball',\n",
       "       'Fatboy Slim', 'Fifth Harmony', 'Fiona Apple', 'Fleetwood Mac',\n",
       "       'Flo-Rida', 'Foo Fighters', 'Foreigner', 'Frank Sinatra',\n",
       "       'Frank Zappa', 'Frankie Goes To Hollywood', 'Frankie Laine',\n",
       "       'Frankie Valli', 'Freddie Aguilar', 'Freddie King', 'Free',\n",
       "       'Freestyle', 'Fun.', 'Garth Brooks', 'Gary Numan',\n",
       "       'Gary Valenciano', 'Genesis', 'George Formby', 'George Harrison',\n",
       "       'George Jones', 'George Michael', 'George Strait', 'Gino Vannelli',\n",
       "       'Gipsy Kings', 'Glee', 'Glen Campbell', 'Gloria Estefan',\n",
       "       'Gloria Gaynor', 'GMB', 'Gordon Lightfoot', 'Grand Funk Railroad',\n",
       "       'Grateful Dead', 'Grease', 'Great Big Sea', 'Green Day',\n",
       "       'Gucci Mane', 'Guided By Voices', \"Guns N' Roses\", 'Halloween',\n",
       "       'Hank Snow', 'Hank Williams', 'Hank Williams Jr.', 'Hanson',\n",
       "       'Happy Mondays', 'Harry Belafonte', 'Harry Connick, Jr.', 'Heart',\n",
       "       'Helloween', 'High School Musical', 'Hillsong', 'Hillsong United',\n",
       "       'HIM', 'Hollies', 'Hooverphonic', 'Horrible Histories',\n",
       "       'Housemartins', 'Howard Jones', 'Human League', 'Ian Hunter',\n",
       "       'Ice Cube', 'Idina Menzel', 'Iggy Pop', 'Il Divo',\n",
       "       'Imagine Dragons', 'Imago', 'Imperials', 'Incognito', 'Incubus',\n",
       "       'Independence Day', 'Indiana Bible College', 'Indigo Girls',\n",
       "       'Ingrid Michaelson', 'Inna', 'Insane Clown Posse', 'Inside Out',\n",
       "       'INXS', 'Iron Butterfly', 'Iron Maiden', 'Irving Berlin',\n",
       "       'Isley Brothers', 'Israel', 'Israel Houghton', 'Iwan Fals',\n",
       "       'J Cole', 'Jackson Browne', 'The Jam', 'James Taylor',\n",
       "       'Janis Joplin', 'Jason Mraz', 'Jennifer Lopez', 'Jim Croce',\n",
       "       'Jimi Hendrix', 'Jimmy Buffett', 'John Denver', 'John Legend',\n",
       "       'John Martyn', 'John McDermott', 'John Mellencamp', 'John Prine',\n",
       "       'John Waite', 'Johnny Cash', 'Joni Mitchell', 'Jose Mari Chan',\n",
       "       'Josh Groban', 'Journey', 'Joy Division', 'Judas Priest', 'Judds',\n",
       "       'Judy Garland', 'Justin Bieber', 'Justin Timberlake', 'Kanye West',\n",
       "       'Kari Jobe', 'Kate Bush', 'Katy Perry', 'Keith Green',\n",
       "       'Keith Urban', 'Kelly Clarkson', 'Kelly Family', 'Kenny Chesney',\n",
       "       'Kenny Loggins', 'Kenny Rogers', 'Kid Rock', 'The Killers',\n",
       "       'Kim Wilde', 'King Crimson', 'King Diamond', 'Kinks',\n",
       "       'Kirk Franklin', 'Kirsty Maccoll', 'Kiss', 'Koes Plus', 'Korn',\n",
       "       'Kris Kristofferson', 'Kyla', 'Kylie Minogue', 'Lady Gaga',\n",
       "       'Lana Del Rey', 'Lata Mangeshkar', 'Lauryn Hill', 'Lea Salonga',\n",
       "       'Leann Rimes', 'Lenny Kravitz', 'Leo Sayer', 'Leonard Cohen',\n",
       "       'Les Miserables', 'Lil Wayne', 'Linda Ronstadt', 'Linkin Park',\n",
       "       'Lionel Richie', 'Little Mix', 'Little Walter', 'LL Cool J',\n",
       "       'Lloyd Cole', 'Lorde', 'Loretta Lynn', 'Lou Reed',\n",
       "       'Louis Armstrong', 'Louis Jordan', 'Lucky Dube', 'Luther Vandross',\n",
       "       'Lynyrd Skynyrd', 'Madonna', 'Manowar', 'Mariah Carey',\n",
       "       'Marianne Faithfull', 'Marillion', 'Marilyn Manson', 'Mark Ronson',\n",
       "       'Maroon 5', 'Mary Black', 'Matt Monro', 'Matt Redman',\n",
       "       'Mazzy Star', 'Mc Hammer', 'Meat Loaf', 'Megadeth', 'Men At Work',\n",
       "       'Metallica', 'Michael Bolton', 'Michael Buble', 'Michael Jackson',\n",
       "       'Michael W. Smith', 'Migos', 'Miley Cyrus', 'Misfits',\n",
       "       'Modern Talking', 'The Monkees', 'Moody Blues', 'Morrissey', 'Mud',\n",
       "       \"'n Sync\", 'Nat King Cole', 'Natalie Cole', 'Natalie Grant',\n",
       "       'Natalie Imbruglia', 'Nazareth', 'Ne-Yo', 'Neil Diamond',\n",
       "       'Neil Sedaka', 'Neil Young', 'New Order', 'Next To Normal',\n",
       "       'Nick Cave', 'Nick Drake', 'Nickelback', 'Nicki Minaj',\n",
       "       'Nightwish', 'Nina Simone', 'Nine Inch Nails', 'Nirvana',\n",
       "       'Nitty Gritty Dirt Band', 'Noa', 'NOFX', 'Norah Jones',\n",
       "       'Notorious B.I.G.', 'O-Zone', 'O.A.R.', 'Oasis',\n",
       "       'Ocean Colour Scene', 'Offspring', 'Ofra Haza', 'Oingo Boingo',\n",
       "       \"Old 97's\", 'Oliver', 'Olivia Newton-John', 'Olly Murs', 'Omd',\n",
       "       'One Direction', 'OneRepublic', 'Opeth', 'Orphaned Land',\n",
       "       'Oscar Hammerstein', 'Otis Redding', 'Our Lady Peace',\n",
       "       'Out Of Eden', 'Outkast', 'Overkill', 'Owl City', 'Ozzy Osbourne',\n",
       "       'Passenger', 'Pat Benatar', 'Patsy Cline', 'Patti Smith',\n",
       "       'Paul McCartney', 'Paul Simon', 'Pearl Jam', 'Perry Como',\n",
       "       'Pet Shop Boys', 'Peter Cetera', 'Peter Gabriel', 'Peter Tosh',\n",
       "       'Pharrell Williams', 'Phil Collins', 'Phineas And Ferb', 'Phish',\n",
       "       'Pink Floyd', 'Pitbull', 'Planetshakers', 'P!nk', 'Pogues',\n",
       "       'Point Of Grace', 'Poison', 'Pretenders', 'Primus', 'Prince',\n",
       "       'Proclaimers', 'Procol Harum', 'Puff Daddy', 'Q-Tip', 'Qntal',\n",
       "       'Quarashi', 'Quarterflash', 'Quasi', 'Queen', 'Queen Adreena',\n",
       "       'Queen Latifah', 'Queens Of The Stone Age', 'Queensryche',\n",
       "       'Quicksand', 'Quicksilver Messenger Service', 'Quiet Riot',\n",
       "       'Quietdrive', 'Quincy Jones', 'Quincy Punx', 'R. Kelly',\n",
       "       'Radiohead', 'Raffi', 'Rage Against The Machine', 'Rainbow',\n",
       "       'Rammstein', 'Ramones', 'Randy Travis', 'Rascal Flatts',\n",
       "       'Ray Boltz', 'Ray Charles', 'Reba Mcentire',\n",
       "       'Red Hot Chili Peppers', 'Regine Velasquez', 'Religious Music',\n",
       "       'Rem', 'Reo Speedwagon', 'Richard Marx', 'Rick Astley', 'Rihanna',\n",
       "       'Robbie Williams', 'Rod Stewart', 'Rolling Stones', 'Roxette',\n",
       "       'Roxy Music', 'Roy Orbison', 'Rush', 'Sam Smith', 'Santana',\n",
       "       'Savage Garden', 'Scorpions', 'Selah', 'Selena Gomez', 'Sia',\n",
       "       'Side A', 'Slayer', 'Smiths', 'Snoop Dogg', 'Soundgarden',\n",
       "       'Spandau Ballet', 'Squeeze', 'Starship', 'Status Quo',\n",
       "       'Steely Dan', 'Steve Miller Band', 'Stevie Ray Vaughan',\n",
       "       'Stevie Wonder', 'Sting', 'Stone Roses', 'Stone Temple Pilots',\n",
       "       'Styx', 'Sublime', 'Supertramp', 'System Of A Down',\n",
       "       'Talking Heads', 'Taylor Swift', 'Tears For Fears',\n",
       "       'The Temptations', 'Ten Years After', 'The Broadways',\n",
       "       'The Script', 'The Weeknd', 'Thin Lizzy', 'Tiffany', 'Tim Buckley',\n",
       "       'Tim McGraw', 'Tina Turner', 'Tom Jones', 'Tom Lehrer',\n",
       "       'Tom T. Hall', 'Tom Waits', 'Tool', 'Tori Amos', 'Toto',\n",
       "       'Townes Van Zandt', 'Tracy Chapman', 'Tragically Hip', 'Train',\n",
       "       'Travis', 'Twenty One Pilots', 'U. D. O.', 'U-Kiss', 'U2', 'UB40',\n",
       "       'Ufo', 'Ugly Kid Joe', \"Ultramagnetic Mc's\", 'Ultravox',\n",
       "       'Uncle Kracker', 'Uncle Tupelo', 'Underoath', 'Underworld',\n",
       "       'Unearth', 'Ungu', 'Unkle', 'Unknown', 'Unseen', 'Unwritten Law',\n",
       "       'Uriah Heep', 'Used', 'Usher', 'Utada Hikaru', 'Utopia',\n",
       "       'Van Halen', 'Van Morrison', 'Vanessa Williams', 'Vangelis',\n",
       "       'Vanilla Ice', 'Velvet Underground', 'Vengaboys', 'Venom',\n",
       "       'Vera Lynn', 'Vertical Horizon', 'Veruca Salt', 'Verve',\n",
       "       'Vince Gill', 'Violent Femmes', 'Virgin Steele', 'Vonda Shepard',\n",
       "       'Vybz Kartel', 'Walk The Moon', 'Wanda Jackson', 'Wang Chung',\n",
       "       'Warren Zevon', 'W.A.S.P.', 'Waterboys', 'Waylon Jennings', 'Ween',\n",
       "       'Weezer', 'Weird Al Yankovic', 'Westlife', 'Wet Wet Wet', 'Wham!',\n",
       "       'Whiskeytown', 'The White Stripes', 'Whitesnake',\n",
       "       'Whitney Houston', 'Who', 'Widespread Panic', 'Will Smith',\n",
       "       'Willie Nelson', 'Wilson Phillips', 'Wilson Pickett',\n",
       "       'Wishbone Ash', 'Within Temptation', 'Wiz Khalifa', 'Wu-Tang Clan',\n",
       "       'Wyclef Jean', 'X', 'X Japan', 'X-Raided', 'X-Ray Spex', 'X-Treme',\n",
       "       'Xandria', 'Xavier Naidoo', 'Xavier Rudd', 'Xentrix', 'Xiu Xiu',\n",
       "       'Xscape', 'XTC', 'Xzibit', 'Yazoo', 'Yeah Yeah Yeahs', 'Yelawolf',\n",
       "       'Yello', 'Yellowcard', 'Yeng Constantino', 'Yes', 'YG',\n",
       "       'Ying Yang Twins', 'Yngwie Malmsteen', 'Yo Gotti', 'Yo La Tengo',\n",
       "       'Yoko Ono', 'Yolanda Adams', 'Yonder Mountain String Band',\n",
       "       'You Am I', 'Young Buck', 'Young Dro', 'Young Jeezy',\n",
       "       'Youngbloodz', 'Youth Of Today', 'Yukmouth', 'Yung Joc',\n",
       "       'Yusuf Islam', 'Z-Ro', 'Zac Brown Band', 'Zakk Wylde', 'Zao',\n",
       "       'Zayn Malik', 'Zebra', 'Zebrahead', 'Zed', 'Zero 7', 'Zeromancer',\n",
       "       'Ziggy Marley', 'Zoe', 'Zoegirl', 'Zornik', 'Zox', 'Zucchero',\n",
       "       'Zwan', 'ZZ Top', 'Joseph And The Amazing Technicolor Dreamcoat',\n",
       "       'Soundtracks', 'Van Der Graaf Generator', 'Various Artists',\n",
       "       'Zazie'], dtype=object)"
      ]
     },
     "execution_count": 59,
     "metadata": {},
     "output_type": "execute_result"
    }
   ],
   "source": [
    "p2 = pd1['artist']\n"
   ]
  },
  {
   "cell_type": "code",
   "execution_count": 60,
   "id": "344bf878",
   "metadata": {},
   "outputs": [],
   "source": [
    "artist = list(p2.unique())"
   ]
  },
  {
   "cell_type": "code",
   "execution_count": 61,
   "id": "3495e8f4",
   "metadata": {},
   "outputs": [
    {
     "data": {
      "text/plain": [
       "643"
      ]
     },
     "execution_count": 61,
     "metadata": {},
     "output_type": "execute_result"
    }
   ],
   "source": [
    "len(artist)"
   ]
  },
  {
   "cell_type": "code",
   "execution_count": 65,
   "id": "d9dc2ef3",
   "metadata": {},
   "outputs": [],
   "source": [
    "l2 = list()\n",
    "for i in artist:\n",
    "    results = spotify.search(i, limit=10, offset=0, type='artist', market=None)\n",
    "    a = results['artists']\n",
    "    b = a['items'][0]\n",
    "    l2.append(b['uri'])"
   ]
  },
  {
   "cell_type": "code",
   "execution_count": 66,
   "id": "f5534c1c",
   "metadata": {},
   "outputs": [
    {
     "name": "stdout",
     "output_type": "stream",
     "text": [
      "['spotify:artist:0LcJLqbBmaGUft1e9Mm8HV', 'spotify:artist:5ksRONqssB7BR161NTtJAm', 'spotify:artist:2LB9H0px4qWbCHg9Axzhga', 'spotify:artist:4dpARuHxo51G3z768sgnrY', 'spotify:artist:7Ey4PD4MYsKc5I2dolUwbH', 'spotify:artist:4xXCRXOfQKQ2gjWxNhNzYW', 'spotify:artist:0GnuCXvnvVtX5DShryuyp9', 'spotify:artist:6rJqqRce0Kvo2dJUXoHleC', 'spotify:artist:2m62cc253Xvd9qYQ8d2X3d', 'spotify:artist:1GeaYVIXCzBwEbjAvv0NYn']\n"
     ]
    }
   ],
   "source": [
    "print(l2[:10])"
   ]
  },
  {
   "cell_type": "code",
   "execution_count": 67,
   "id": "c46484dd",
   "metadata": {},
   "outputs": [],
   "source": [
    "l3 = list()\n",
    "for i in l2:\n",
    "    results = spotify.artist(i)\n",
    "    l3.append(results['genres'])\n"
   ]
  },
  {
   "cell_type": "code",
   "execution_count": 68,
   "id": "4591fee6",
   "metadata": {},
   "outputs": [
    {
     "name": "stdout",
     "output_type": "stream",
     "text": [
      "[['europop', 'swedish pop'], ['bubblegum dance', 'dance pop', 'eurodance', 'europop', 'pop rock'], ['comedy', 'comic'], ['british soul', 'pop', 'pop soul', 'uk pop'], ['album rock', 'classic rock', 'hard rock', 'rock'], ['mellow gold', 'soft rock'], ['opm'], ['country', 'country road', 'country rock'], ['album rock', 'art rock', 'classic rock', 'mellow gold', 'progressive rock', 'soft rock', 'symphonic rock'], ['operatic pop']]\n"
     ]
    }
   ],
   "source": [
    "print(l3[:10])"
   ]
  },
  {
   "cell_type": "code",
   "execution_count": 97,
   "id": "a3bc86ad",
   "metadata": {},
   "outputs": [],
   "source": [
    "l4 = list()\n",
    "for i in l2:\n",
    "    results = spotify.artist(i)\n",
    "    l4.append(results['followers']['total'])\n",
    "    #results['followers']['total']"
   ]
  },
  {
   "cell_type": "code",
   "execution_count": 98,
   "id": "49bd30a5",
   "metadata": {},
   "outputs": [
    {
     "name": "stdout",
     "output_type": "stream",
     "text": [
      "[9538585, 640544, 138842, 45801197, 13059700, 3606065, 545999, 1171731, 1256665, 14705]\n"
     ]
    }
   ],
   "source": [
    "print(l4[:10])"
   ]
  },
  {
   "cell_type": "code",
   "execution_count": 99,
   "id": "b2de8b85",
   "metadata": {},
   "outputs": [],
   "source": [
    "l5 = list()\n",
    "for i in l2:\n",
    "    results = spotify.artist(i)\n",
    "    l5.append(results['popularity'])\n",
    "    #results['popularity']"
   ]
  },
  {
   "cell_type": "code",
   "execution_count": 100,
   "id": "25931978",
   "metadata": {},
   "outputs": [
    {
     "name": "stdout",
     "output_type": "stream",
     "text": [
      "[82, 65, 47, 87, 78, 69, 51, 65, 64, 46]\n"
     ]
    }
   ],
   "source": [
    "print(l5[:10])"
   ]
  },
  {
   "cell_type": "code",
   "execution_count": 101,
   "id": "f8dbe8f4",
   "metadata": {},
   "outputs": [],
   "source": [
    "pd2 = pd.DataFrame((list(zip(artist,l2, l3,l4,l5))))"
   ]
  },
  {
   "cell_type": "code",
   "execution_count": 102,
   "id": "74a85ff9",
   "metadata": {},
   "outputs": [],
   "source": [
    "pd2.columns = ['artist', 'uri','genre','followers','popularity']"
   ]
  },
  {
   "cell_type": "code",
   "execution_count": 103,
   "id": "80aa5cc3",
   "metadata": {},
   "outputs": [
    {
     "data": {
      "text/html": [
       "<div>\n",
       "<style scoped>\n",
       "    .dataframe tbody tr th:only-of-type {\n",
       "        vertical-align: middle;\n",
       "    }\n",
       "\n",
       "    .dataframe tbody tr th {\n",
       "        vertical-align: top;\n",
       "    }\n",
       "\n",
       "    .dataframe thead th {\n",
       "        text-align: right;\n",
       "    }\n",
       "</style>\n",
       "<table border=\"1\" class=\"dataframe\">\n",
       "  <thead>\n",
       "    <tr style=\"text-align: right;\">\n",
       "      <th></th>\n",
       "      <th>artist</th>\n",
       "      <th>uri</th>\n",
       "      <th>genre</th>\n",
       "      <th>followers</th>\n",
       "      <th>popularity</th>\n",
       "    </tr>\n",
       "  </thead>\n",
       "  <tbody>\n",
       "    <tr>\n",
       "      <th>0</th>\n",
       "      <td>ABBA</td>\n",
       "      <td>spotify:artist:0LcJLqbBmaGUft1e9Mm8HV</td>\n",
       "      <td>[europop, swedish pop]</td>\n",
       "      <td>9538585</td>\n",
       "      <td>82</td>\n",
       "    </tr>\n",
       "    <tr>\n",
       "      <th>1</th>\n",
       "      <td>Ace Of Base</td>\n",
       "      <td>spotify:artist:5ksRONqssB7BR161NTtJAm</td>\n",
       "      <td>[bubblegum dance, dance pop, eurodance, europo...</td>\n",
       "      <td>640544</td>\n",
       "      <td>65</td>\n",
       "    </tr>\n",
       "    <tr>\n",
       "      <th>2</th>\n",
       "      <td>Adam Sandler</td>\n",
       "      <td>spotify:artist:2LB9H0px4qWbCHg9Axzhga</td>\n",
       "      <td>[comedy, comic]</td>\n",
       "      <td>138842</td>\n",
       "      <td>47</td>\n",
       "    </tr>\n",
       "    <tr>\n",
       "      <th>3</th>\n",
       "      <td>Adele</td>\n",
       "      <td>spotify:artist:4dpARuHxo51G3z768sgnrY</td>\n",
       "      <td>[british soul, pop, pop soul, uk pop]</td>\n",
       "      <td>45801197</td>\n",
       "      <td>87</td>\n",
       "    </tr>\n",
       "    <tr>\n",
       "      <th>4</th>\n",
       "      <td>Aerosmith</td>\n",
       "      <td>spotify:artist:7Ey4PD4MYsKc5I2dolUwbH</td>\n",
       "      <td>[album rock, classic rock, hard rock, rock]</td>\n",
       "      <td>13059700</td>\n",
       "      <td>78</td>\n",
       "    </tr>\n",
       "    <tr>\n",
       "      <th>5</th>\n",
       "      <td>Air Supply</td>\n",
       "      <td>spotify:artist:4xXCRXOfQKQ2gjWxNhNzYW</td>\n",
       "      <td>[mellow gold, soft rock]</td>\n",
       "      <td>3606065</td>\n",
       "      <td>69</td>\n",
       "    </tr>\n",
       "    <tr>\n",
       "      <th>6</th>\n",
       "      <td>Aiza Seguerra</td>\n",
       "      <td>spotify:artist:0GnuCXvnvVtX5DShryuyp9</td>\n",
       "      <td>[opm]</td>\n",
       "      <td>545999</td>\n",
       "      <td>51</td>\n",
       "    </tr>\n",
       "    <tr>\n",
       "      <th>7</th>\n",
       "      <td>Alabama</td>\n",
       "      <td>spotify:artist:6rJqqRce0Kvo2dJUXoHleC</td>\n",
       "      <td>[country, country road, country rock]</td>\n",
       "      <td>1171731</td>\n",
       "      <td>65</td>\n",
       "    </tr>\n",
       "    <tr>\n",
       "      <th>8</th>\n",
       "      <td>Alan Parsons Project</td>\n",
       "      <td>spotify:artist:2m62cc253Xvd9qYQ8d2X3d</td>\n",
       "      <td>[album rock, art rock, classic rock, mellow go...</td>\n",
       "      <td>1256665</td>\n",
       "      <td>64</td>\n",
       "    </tr>\n",
       "    <tr>\n",
       "      <th>9</th>\n",
       "      <td>Aled Jones</td>\n",
       "      <td>spotify:artist:1GeaYVIXCzBwEbjAvv0NYn</td>\n",
       "      <td>[operatic pop]</td>\n",
       "      <td>14705</td>\n",
       "      <td>46</td>\n",
       "    </tr>\n",
       "  </tbody>\n",
       "</table>\n",
       "</div>"
      ],
      "text/plain": [
       "                 artist                                    uri  \\\n",
       "0                  ABBA  spotify:artist:0LcJLqbBmaGUft1e9Mm8HV   \n",
       "1           Ace Of Base  spotify:artist:5ksRONqssB7BR161NTtJAm   \n",
       "2          Adam Sandler  spotify:artist:2LB9H0px4qWbCHg9Axzhga   \n",
       "3                 Adele  spotify:artist:4dpARuHxo51G3z768sgnrY   \n",
       "4             Aerosmith  spotify:artist:7Ey4PD4MYsKc5I2dolUwbH   \n",
       "5            Air Supply  spotify:artist:4xXCRXOfQKQ2gjWxNhNzYW   \n",
       "6         Aiza Seguerra  spotify:artist:0GnuCXvnvVtX5DShryuyp9   \n",
       "7               Alabama  spotify:artist:6rJqqRce0Kvo2dJUXoHleC   \n",
       "8  Alan Parsons Project  spotify:artist:2m62cc253Xvd9qYQ8d2X3d   \n",
       "9            Aled Jones  spotify:artist:1GeaYVIXCzBwEbjAvv0NYn   \n",
       "\n",
       "                                               genre  followers  popularity  \n",
       "0                             [europop, swedish pop]    9538585          82  \n",
       "1  [bubblegum dance, dance pop, eurodance, europo...     640544          65  \n",
       "2                                    [comedy, comic]     138842          47  \n",
       "3              [british soul, pop, pop soul, uk pop]   45801197          87  \n",
       "4        [album rock, classic rock, hard rock, rock]   13059700          78  \n",
       "5                           [mellow gold, soft rock]    3606065          69  \n",
       "6                                              [opm]     545999          51  \n",
       "7              [country, country road, country rock]    1171731          65  \n",
       "8  [album rock, art rock, classic rock, mellow go...    1256665          64  \n",
       "9                                     [operatic pop]      14705          46  "
      ]
     },
     "execution_count": 103,
     "metadata": {},
     "output_type": "execute_result"
    }
   ],
   "source": [
    "pd2[:10]"
   ]
  },
  {
   "cell_type": "code",
   "execution_count": 82,
   "id": "05e6274e",
   "metadata": {},
   "outputs": [],
   "source": [
    "l4 = list()\n",
    "p8 = p2[:10]\n",
    "for i in p8:\n",
    "    if i in pd2['Artist']: print(true)\n",
    "        "
   ]
  },
  {
   "cell_type": "code",
   "execution_count": 83,
   "id": "56ecd7ba",
   "metadata": {},
   "outputs": [],
   "source": [
    "import pandas as pd\n",
    "\n",
    "# Create the first dataset with unique values\n",
    "data1 = {'key': ['A', 'B', 'C', 'D'],\n",
    "         'value': [1, 2, 3, 4]}\n",
    "df1 = pd.DataFrame(data1)\n",
    "\n",
    "# Create the second dataset with duplicates\n",
    "data2 = {'key': ['A', 'A', 'B', 'B', 'C', 'C'],\n",
    "         'value': [5, 6, 7, 8, 9, 10]}\n",
    "df2 = pd.DataFrame(data2)\n",
    "\n",
    "# Merge the two datasets on the 'key' column\n",
    "merged_df = pd.merge(df1, df2, on='key')\n"
   ]
  },
  {
   "cell_type": "code",
   "execution_count": 84,
   "id": "f2f990cd",
   "metadata": {},
   "outputs": [
    {
     "name": "stdout",
     "output_type": "stream",
     "text": [
      "  key  value_x  value_y\n",
      "0   A        1        5\n",
      "1   A        1        6\n",
      "2   B        2        7\n",
      "3   B        2        8\n",
      "4   C        3        9\n",
      "5   C        3       10\n"
     ]
    }
   ],
   "source": [
    "print(merged_df)"
   ]
  },
  {
   "cell_type": "code",
   "execution_count": 104,
   "id": "c31bb42c",
   "metadata": {},
   "outputs": [],
   "source": [
    "m_r = pd.merge(pd1,pd2, on = 'artist')"
   ]
  },
  {
   "cell_type": "code",
   "execution_count": 105,
   "id": "609c50e2",
   "metadata": {},
   "outputs": [
    {
     "data": {
      "text/html": [
       "<div>\n",
       "<style scoped>\n",
       "    .dataframe tbody tr th:only-of-type {\n",
       "        vertical-align: middle;\n",
       "    }\n",
       "\n",
       "    .dataframe tbody tr th {\n",
       "        vertical-align: top;\n",
       "    }\n",
       "\n",
       "    .dataframe thead th {\n",
       "        text-align: right;\n",
       "    }\n",
       "</style>\n",
       "<table border=\"1\" class=\"dataframe\">\n",
       "  <thead>\n",
       "    <tr style=\"text-align: right;\">\n",
       "      <th></th>\n",
       "      <th>artist</th>\n",
       "      <th>song</th>\n",
       "      <th>link</th>\n",
       "      <th>text</th>\n",
       "      <th>uri</th>\n",
       "      <th>genre</th>\n",
       "      <th>followers</th>\n",
       "      <th>popularity</th>\n",
       "    </tr>\n",
       "  </thead>\n",
       "  <tbody>\n",
       "    <tr>\n",
       "      <th>0</th>\n",
       "      <td>ABBA</td>\n",
       "      <td>Ahe's My Kind Of Girl</td>\n",
       "      <td>/a/abba/ahes+my+kind+of+girl_20598417.html</td>\n",
       "      <td>Look at her face, it's a wonderful face  \\r\\nA...</td>\n",
       "      <td>spotify:artist:0LcJLqbBmaGUft1e9Mm8HV</td>\n",
       "      <td>[europop, swedish pop]</td>\n",
       "      <td>9538585</td>\n",
       "      <td>82</td>\n",
       "    </tr>\n",
       "    <tr>\n",
       "      <th>1</th>\n",
       "      <td>ABBA</td>\n",
       "      <td>Andante, Andante</td>\n",
       "      <td>/a/abba/andante+andante_20002708.html</td>\n",
       "      <td>Take it easy with me, please  \\r\\nTouch me gen...</td>\n",
       "      <td>spotify:artist:0LcJLqbBmaGUft1e9Mm8HV</td>\n",
       "      <td>[europop, swedish pop]</td>\n",
       "      <td>9538585</td>\n",
       "      <td>82</td>\n",
       "    </tr>\n",
       "    <tr>\n",
       "      <th>2</th>\n",
       "      <td>ABBA</td>\n",
       "      <td>As Good As New</td>\n",
       "      <td>/a/abba/as+good+as+new_20003033.html</td>\n",
       "      <td>I'll never know why I had to go  \\r\\nWhy I had...</td>\n",
       "      <td>spotify:artist:0LcJLqbBmaGUft1e9Mm8HV</td>\n",
       "      <td>[europop, swedish pop]</td>\n",
       "      <td>9538585</td>\n",
       "      <td>82</td>\n",
       "    </tr>\n",
       "    <tr>\n",
       "      <th>3</th>\n",
       "      <td>ABBA</td>\n",
       "      <td>Bang</td>\n",
       "      <td>/a/abba/bang_20598415.html</td>\n",
       "      <td>Making somebody happy is a question of give an...</td>\n",
       "      <td>spotify:artist:0LcJLqbBmaGUft1e9Mm8HV</td>\n",
       "      <td>[europop, swedish pop]</td>\n",
       "      <td>9538585</td>\n",
       "      <td>82</td>\n",
       "    </tr>\n",
       "    <tr>\n",
       "      <th>4</th>\n",
       "      <td>ABBA</td>\n",
       "      <td>Bang-A-Boomerang</td>\n",
       "      <td>/a/abba/bang+a+boomerang_20002668.html</td>\n",
       "      <td>Making somebody happy is a question of give an...</td>\n",
       "      <td>spotify:artist:0LcJLqbBmaGUft1e9Mm8HV</td>\n",
       "      <td>[europop, swedish pop]</td>\n",
       "      <td>9538585</td>\n",
       "      <td>82</td>\n",
       "    </tr>\n",
       "    <tr>\n",
       "      <th>5</th>\n",
       "      <td>ABBA</td>\n",
       "      <td>Burning My Bridges</td>\n",
       "      <td>/a/abba/burning+my+bridges_20003011.html</td>\n",
       "      <td>Well, you hoot and you holler and you make me ...</td>\n",
       "      <td>spotify:artist:0LcJLqbBmaGUft1e9Mm8HV</td>\n",
       "      <td>[europop, swedish pop]</td>\n",
       "      <td>9538585</td>\n",
       "      <td>82</td>\n",
       "    </tr>\n",
       "    <tr>\n",
       "      <th>6</th>\n",
       "      <td>ABBA</td>\n",
       "      <td>Cassandra</td>\n",
       "      <td>/a/abba/cassandra_20002811.html</td>\n",
       "      <td>Down in the street they're all singing and sho...</td>\n",
       "      <td>spotify:artist:0LcJLqbBmaGUft1e9Mm8HV</td>\n",
       "      <td>[europop, swedish pop]</td>\n",
       "      <td>9538585</td>\n",
       "      <td>82</td>\n",
       "    </tr>\n",
       "    <tr>\n",
       "      <th>7</th>\n",
       "      <td>ABBA</td>\n",
       "      <td>Chiquitita</td>\n",
       "      <td>/a/abba/chiquitita_20002978.html</td>\n",
       "      <td>Chiquitita, tell me what's wrong  \\r\\nYou're e...</td>\n",
       "      <td>spotify:artist:0LcJLqbBmaGUft1e9Mm8HV</td>\n",
       "      <td>[europop, swedish pop]</td>\n",
       "      <td>9538585</td>\n",
       "      <td>82</td>\n",
       "    </tr>\n",
       "    <tr>\n",
       "      <th>8</th>\n",
       "      <td>ABBA</td>\n",
       "      <td>Crazy World</td>\n",
       "      <td>/a/abba/crazy+world_20003013.html</td>\n",
       "      <td>I was out with the morning sun  \\r\\nCouldn't s...</td>\n",
       "      <td>spotify:artist:0LcJLqbBmaGUft1e9Mm8HV</td>\n",
       "      <td>[europop, swedish pop]</td>\n",
       "      <td>9538585</td>\n",
       "      <td>82</td>\n",
       "    </tr>\n",
       "    <tr>\n",
       "      <th>9</th>\n",
       "      <td>ABBA</td>\n",
       "      <td>Crying Over You</td>\n",
       "      <td>/a/abba/crying+over+you_20177611.html</td>\n",
       "      <td>I'm waitin' for you baby  \\r\\nI'm sitting all ...</td>\n",
       "      <td>spotify:artist:0LcJLqbBmaGUft1e9Mm8HV</td>\n",
       "      <td>[europop, swedish pop]</td>\n",
       "      <td>9538585</td>\n",
       "      <td>82</td>\n",
       "    </tr>\n",
       "  </tbody>\n",
       "</table>\n",
       "</div>"
      ],
      "text/plain": [
       "  artist                   song                                        link  \\\n",
       "0   ABBA  Ahe's My Kind Of Girl  /a/abba/ahes+my+kind+of+girl_20598417.html   \n",
       "1   ABBA       Andante, Andante       /a/abba/andante+andante_20002708.html   \n",
       "2   ABBA         As Good As New        /a/abba/as+good+as+new_20003033.html   \n",
       "3   ABBA                   Bang                  /a/abba/bang_20598415.html   \n",
       "4   ABBA       Bang-A-Boomerang      /a/abba/bang+a+boomerang_20002668.html   \n",
       "5   ABBA     Burning My Bridges    /a/abba/burning+my+bridges_20003011.html   \n",
       "6   ABBA              Cassandra             /a/abba/cassandra_20002811.html   \n",
       "7   ABBA             Chiquitita            /a/abba/chiquitita_20002978.html   \n",
       "8   ABBA            Crazy World           /a/abba/crazy+world_20003013.html   \n",
       "9   ABBA        Crying Over You       /a/abba/crying+over+you_20177611.html   \n",
       "\n",
       "                                                text  \\\n",
       "0  Look at her face, it's a wonderful face  \\r\\nA...   \n",
       "1  Take it easy with me, please  \\r\\nTouch me gen...   \n",
       "2  I'll never know why I had to go  \\r\\nWhy I had...   \n",
       "3  Making somebody happy is a question of give an...   \n",
       "4  Making somebody happy is a question of give an...   \n",
       "5  Well, you hoot and you holler and you make me ...   \n",
       "6  Down in the street they're all singing and sho...   \n",
       "7  Chiquitita, tell me what's wrong  \\r\\nYou're e...   \n",
       "8  I was out with the morning sun  \\r\\nCouldn't s...   \n",
       "9  I'm waitin' for you baby  \\r\\nI'm sitting all ...   \n",
       "\n",
       "                                     uri                   genre  followers  \\\n",
       "0  spotify:artist:0LcJLqbBmaGUft1e9Mm8HV  [europop, swedish pop]    9538585   \n",
       "1  spotify:artist:0LcJLqbBmaGUft1e9Mm8HV  [europop, swedish pop]    9538585   \n",
       "2  spotify:artist:0LcJLqbBmaGUft1e9Mm8HV  [europop, swedish pop]    9538585   \n",
       "3  spotify:artist:0LcJLqbBmaGUft1e9Mm8HV  [europop, swedish pop]    9538585   \n",
       "4  spotify:artist:0LcJLqbBmaGUft1e9Mm8HV  [europop, swedish pop]    9538585   \n",
       "5  spotify:artist:0LcJLqbBmaGUft1e9Mm8HV  [europop, swedish pop]    9538585   \n",
       "6  spotify:artist:0LcJLqbBmaGUft1e9Mm8HV  [europop, swedish pop]    9538585   \n",
       "7  spotify:artist:0LcJLqbBmaGUft1e9Mm8HV  [europop, swedish pop]    9538585   \n",
       "8  spotify:artist:0LcJLqbBmaGUft1e9Mm8HV  [europop, swedish pop]    9538585   \n",
       "9  spotify:artist:0LcJLqbBmaGUft1e9Mm8HV  [europop, swedish pop]    9538585   \n",
       "\n",
       "   popularity  \n",
       "0          82  \n",
       "1          82  \n",
       "2          82  \n",
       "3          82  \n",
       "4          82  \n",
       "5          82  \n",
       "6          82  \n",
       "7          82  \n",
       "8          82  \n",
       "9          82  "
      ]
     },
     "execution_count": 105,
     "metadata": {},
     "output_type": "execute_result"
    }
   ],
   "source": [
    "m_r[:10]"
   ]
  },
  {
   "cell_type": "code",
   "execution_count": 107,
   "id": "514074de",
   "metadata": {},
   "outputs": [],
   "source": [
    "m_r.to_excel('C:\\\\Users\\\\aashi\\\\Desktop\\\\music_data2.xlsx', sheet_name='Sheet1', index=False)\n",
    "#C:\\Users\\aashi"
   ]
  },
  {
   "cell_type": "code",
   "execution_count": null,
   "id": "d5a34bd2",
   "metadata": {},
   "outputs": [],
   "source": [
    "\n"
   ]
  }
 ],
 "metadata": {
  "kernelspec": {
   "display_name": "Python 3 (ipykernel)",
   "language": "python",
   "name": "python3"
  },
  "language_info": {
   "codemirror_mode": {
    "name": "ipython",
    "version": 3
   },
   "file_extension": ".py",
   "mimetype": "text/x-python",
   "name": "python",
   "nbconvert_exporter": "python",
   "pygments_lexer": "ipython3",
   "version": "3.9.7"
  }
 },
 "nbformat": 4,
 "nbformat_minor": 5
}
